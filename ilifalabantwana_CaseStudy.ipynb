{
 "cells": [
  {
   "cell_type": "markdown",
   "id": "96281a49",
   "metadata": {},
   "source": [
    "# Client goal\n",
    "The Southern Cape Provincial Education Department (__fictitious!__) wants to achieve major improvements in both the quantity and quality of early childhood development (ECD) programmes for its children. They particularly want assistance in analysing the data they have collected on the ECD programmes in their province and using it to plan operations for the year ahead."
   ]
  },
  {
   "cell_type": "markdown",
   "id": "4c6150aa",
   "metadata": {},
   "source": [
    "## Description of situation\n",
    "ECD or early learning programmes (e.g. preschools, creches, daymothers, etc.) in the Southern Cape are provided by a mixture of public, private and NPO organisations which admit children from age 0-5. The National Education Department is responsible for \n",
    "registering, funding and monitoring these organisations and organises this through its 5 Districts. \n",
    "\n",
    "ECD services must be registered as Partial Care Facilities (PCR Registration) and as ECD Programmes (Programme Registration). These registrations expire in a maximum of 5 years. \n",
    "\n",
    "Registered ECD Programmes can be funded through two funding streams – the equitable share subsidy and the conditional grant subsidy. These pay on a per/child per/day basis at R17 per child per day for 264 days a year."
   ]
  },
  {
   "cell_type": "markdown",
   "id": "ea7e710d",
   "metadata": {},
   "source": [
    "### Import Data"
   ]
  },
  {
   "cell_type": "code",
   "execution_count": 448,
   "id": "ccd5372c",
   "metadata": {},
   "outputs": [],
   "source": [
    "# Load libraries\n",
    "import pandas as pd\n",
    "import numpy as np\n",
    "import matplotlib.pyplot as plt\n",
    "from plotly.offline import plot\n",
    "from plotnine import *\n",
    "\n",
    "from skimpy import skim"
   ]
  },
  {
   "cell_type": "code",
   "execution_count": 449,
   "id": "c99c2cd6",
   "metadata": {
    "scrolled": true
   },
   "outputs": [
    {
     "name": "stdout",
     "output_type": "stream",
     "text": [
      "(922, 25)\n"
     ]
    },
    {
     "data": {
      "text/html": [
       "<div>\n",
       "<style scoped>\n",
       "    .dataframe tbody tr th:only-of-type {\n",
       "        vertical-align: middle;\n",
       "    }\n",
       "\n",
       "    .dataframe tbody tr th {\n",
       "        vertical-align: top;\n",
       "    }\n",
       "\n",
       "    .dataframe thead th {\n",
       "        text-align: right;\n",
       "    }\n",
       "</style>\n",
       "<table border=\"1\" class=\"dataframe\">\n",
       "  <thead>\n",
       "    <tr style=\"text-align: right;\">\n",
       "      <th></th>\n",
       "      <th>Province</th>\n",
       "      <th>ECD_Name</th>\n",
       "      <th>Clasification</th>\n",
       "      <th>Service Type</th>\n",
       "      <th>newOrRenewal</th>\n",
       "      <th>Registration Type</th>\n",
       "      <th>Partial Care Registration (PCR) Status</th>\n",
       "      <th>PCR Level</th>\n",
       "      <th>PCR Certificate Number</th>\n",
       "      <th>PCR issueDate</th>\n",
       "      <th>...</th>\n",
       "      <th>Prog Certificate Number</th>\n",
       "      <th>Land Owner</th>\n",
       "      <th>Building Owner</th>\n",
       "      <th>District Name</th>\n",
       "      <th>Fee Level</th>\n",
       "      <th>No. Children Enrolled</th>\n",
       "      <th>Equitable Share Subsidy</th>\n",
       "      <th>Children Subsidised Equitable Share</th>\n",
       "      <th>Conditional Grant Subsidy</th>\n",
       "      <th>Children Subsided Conditional Grant</th>\n",
       "    </tr>\n",
       "  </thead>\n",
       "  <tbody>\n",
       "    <tr>\n",
       "      <th>0</th>\n",
       "      <td>Southern Cape</td>\n",
       "      <td>ECD 1</td>\n",
       "      <td>Centre based</td>\n",
       "      <td>ECD centre</td>\n",
       "      <td>Renewal</td>\n",
       "      <td>ECD Programme in Partial Care Facility</td>\n",
       "      <td>Fully registered</td>\n",
       "      <td>GOLD</td>\n",
       "      <td>DC 20/00</td>\n",
       "      <td>2019/12/19</td>\n",
       "      <td>...</td>\n",
       "      <td>NaN</td>\n",
       "      <td>Religious institution (e.g. church  mosque)</td>\n",
       "      <td>Religious institution (e.g. church  mosque)</td>\n",
       "      <td>Disitrct 1</td>\n",
       "      <td>1.0</td>\n",
       "      <td>35.0</td>\n",
       "      <td>Yes</td>\n",
       "      <td>40.0</td>\n",
       "      <td>Yes</td>\n",
       "      <td>40.0</td>\n",
       "    </tr>\n",
       "    <tr>\n",
       "      <th>1</th>\n",
       "      <td>Southern Cape</td>\n",
       "      <td>ECD 2</td>\n",
       "      <td>Centre based</td>\n",
       "      <td>ECD centre</td>\n",
       "      <td>Renewal</td>\n",
       "      <td>ECD Programme in Partial Care Facility</td>\n",
       "      <td>Fully registered</td>\n",
       "      <td>GOLD</td>\n",
       "      <td>DC 07/21</td>\n",
       "      <td>2021/03/31</td>\n",
       "      <td>...</td>\n",
       "      <td>NaN</td>\n",
       "      <td>NaN</td>\n",
       "      <td>NaN</td>\n",
       "      <td>Disitrct 3</td>\n",
       "      <td>1.0</td>\n",
       "      <td>NaN</td>\n",
       "      <td>No</td>\n",
       "      <td>NaN</td>\n",
       "      <td>No</td>\n",
       "      <td>NaN</td>\n",
       "    </tr>\n",
       "    <tr>\n",
       "      <th>2</th>\n",
       "      <td>Southern Cape</td>\n",
       "      <td>ECD 3</td>\n",
       "      <td>Centre based</td>\n",
       "      <td>ECD centre</td>\n",
       "      <td>NaN</td>\n",
       "      <td>NaN</td>\n",
       "      <td>Not registered</td>\n",
       "      <td>NaN</td>\n",
       "      <td>NaN</td>\n",
       "      <td>NaN</td>\n",
       "      <td>...</td>\n",
       "      <td>NaN</td>\n",
       "      <td>Not-for profit organisation</td>\n",
       "      <td>Not-for profit organisation</td>\n",
       "      <td>Disitrct 2</td>\n",
       "      <td>2.0</td>\n",
       "      <td>31.0</td>\n",
       "      <td>No</td>\n",
       "      <td>NaN</td>\n",
       "      <td>No</td>\n",
       "      <td>NaN</td>\n",
       "    </tr>\n",
       "    <tr>\n",
       "      <th>3</th>\n",
       "      <td>Southern Cape</td>\n",
       "      <td>ECD 4</td>\n",
       "      <td>Centre based</td>\n",
       "      <td>ECD centre</td>\n",
       "      <td>Renewal</td>\n",
       "      <td>ECD Programme in Partial Care Facility</td>\n",
       "      <td>Conditionally registered</td>\n",
       "      <td>BRONZE</td>\n",
       "      <td>DC 03/18</td>\n",
       "      <td>2019/09/25</td>\n",
       "      <td>...</td>\n",
       "      <td>NaN</td>\n",
       "      <td>Communal land (traditional)</td>\n",
       "      <td>The ECD Programme</td>\n",
       "      <td>Disitrct 3</td>\n",
       "      <td>1.0</td>\n",
       "      <td>23.0</td>\n",
       "      <td>Yes</td>\n",
       "      <td>23.0</td>\n",
       "      <td>Yes</td>\n",
       "      <td>23.0</td>\n",
       "    </tr>\n",
       "    <tr>\n",
       "      <th>4</th>\n",
       "      <td>Southern Cape</td>\n",
       "      <td>ECD 5</td>\n",
       "      <td>Centre based</td>\n",
       "      <td>ECD centre</td>\n",
       "      <td>NaN</td>\n",
       "      <td>NaN</td>\n",
       "      <td>Not registered</td>\n",
       "      <td>NaN</td>\n",
       "      <td>NaN</td>\n",
       "      <td>NaN</td>\n",
       "      <td>...</td>\n",
       "      <td>NaN</td>\n",
       "      <td>Municipality</td>\n",
       "      <td>Municipality</td>\n",
       "      <td>Disitrct 2</td>\n",
       "      <td>2.0</td>\n",
       "      <td>5.0</td>\n",
       "      <td>No</td>\n",
       "      <td>NaN</td>\n",
       "      <td>No</td>\n",
       "      <td>NaN</td>\n",
       "    </tr>\n",
       "  </tbody>\n",
       "</table>\n",
       "<p>5 rows × 25 columns</p>\n",
       "</div>"
      ],
      "text/plain": [
       "        Province ECD_Name Clasification Service Type newOrRenewal  \\\n",
       "0  Southern Cape    ECD 1  Centre based   ECD centre      Renewal   \n",
       "1  Southern Cape    ECD 2  Centre based   ECD centre      Renewal   \n",
       "2  Southern Cape    ECD 3  Centre based   ECD centre          NaN   \n",
       "3  Southern Cape    ECD 4  Centre based   ECD centre      Renewal   \n",
       "4  Southern Cape    ECD 5  Centre based   ECD centre          NaN   \n",
       "\n",
       "                        Registration Type  \\\n",
       "0  ECD Programme in Partial Care Facility   \n",
       "1  ECD Programme in Partial Care Facility   \n",
       "2                                     NaN   \n",
       "3  ECD Programme in Partial Care Facility   \n",
       "4                                     NaN   \n",
       "\n",
       "  Partial Care Registration (PCR) Status PCR Level PCR Certificate Number  \\\n",
       "0                       Fully registered      GOLD               DC 20/00   \n",
       "1                       Fully registered      GOLD               DC 07/21   \n",
       "2                         Not registered       NaN                    NaN   \n",
       "3               Conditionally registered    BRONZE               DC 03/18   \n",
       "4                         Not registered       NaN                    NaN   \n",
       "\n",
       "  PCR issueDate  ... Prog Certificate Number  \\\n",
       "0    2019/12/19  ...                     NaN   \n",
       "1    2021/03/31  ...                     NaN   \n",
       "2           NaN  ...                     NaN   \n",
       "3    2019/09/25  ...                     NaN   \n",
       "4           NaN  ...                     NaN   \n",
       "\n",
       "                                    Land Owner  \\\n",
       "0  Religious institution (e.g. church  mosque)   \n",
       "1                                          NaN   \n",
       "2                  Not-for profit organisation   \n",
       "3                  Communal land (traditional)   \n",
       "4                                 Municipality   \n",
       "\n",
       "                                Building Owner District Name Fee Level  \\\n",
       "0  Religious institution (e.g. church  mosque)    Disitrct 1       1.0   \n",
       "1                                          NaN    Disitrct 3       1.0   \n",
       "2                  Not-for profit organisation    Disitrct 2       2.0   \n",
       "3                            The ECD Programme    Disitrct 3       1.0   \n",
       "4                                 Municipality    Disitrct 2       2.0   \n",
       "\n",
       "  No. Children Enrolled Equitable Share Subsidy  \\\n",
       "0                  35.0                     Yes   \n",
       "1                   NaN                      No   \n",
       "2                  31.0                      No   \n",
       "3                  23.0                     Yes   \n",
       "4                   5.0                      No   \n",
       "\n",
       "  Children Subsidised Equitable Share Conditional Grant Subsidy  \\\n",
       "0                                40.0                       Yes   \n",
       "1                                 NaN                        No   \n",
       "2                                 NaN                        No   \n",
       "3                                23.0                       Yes   \n",
       "4                                 NaN                        No   \n",
       "\n",
       "   Children Subsided Conditional Grant  \n",
       "0                                 40.0  \n",
       "1                                  NaN  \n",
       "2                                  NaN  \n",
       "3                                 23.0  \n",
       "4                                  NaN  \n",
       "\n",
       "[5 rows x 25 columns]"
      ]
     },
     "execution_count": 449,
     "metadata": {},
     "output_type": "execute_result"
    }
   ],
   "source": [
    "# Import data\n",
    "df = pd.read_csv('./data/SCape Extract_Case Study Data_To Share.csv')\n",
    "print(df.shape)\n",
    "df.head()"
   ]
  },
  {
   "cell_type": "markdown",
   "id": "9e94dc67",
   "metadata": {},
   "source": [
    "###  Prepare Data\n",
    "\n",
    "#### Clean Names"
   ]
  },
  {
   "cell_type": "code",
   "execution_count": 450,
   "id": "01c749ab",
   "metadata": {
    "scrolled": true
   },
   "outputs": [
    {
     "name": "stdout",
     "output_type": "stream",
     "text": [
      "Original Column Names:\n",
      "Index(['Province', 'ECD_Name', 'Clasification', 'Service Type', 'newOrRenewal',\n",
      "       'Registration Type', 'Partial Care Registration (PCR) Status',\n",
      "       'PCR Level', 'PCR Certificate Number', 'PCR issueDate',\n",
      "       'PCR expiryDate', 'Prog Registration Status', 'Prog Registration Level',\n",
      "       'Prog Registration issueDate', 'Prog Registration expiryDate',\n",
      "       'Prog Certificate Number', 'Land Owner', 'Building Owner',\n",
      "       'District Name', 'Fee Level', 'No. Children Enrolled',\n",
      "       'Equitable Share Subsidy', 'Children Subsidised Equitable Share',\n",
      "       'Conditional Grant Subsidy', 'Children Subsided Conditional Grant'],\n",
      "      dtype='object')\n",
      "\n",
      "Cleaned Column Names:\n",
      "Index(['province', 'ecd_name', 'clasification', 'service_type', 'neworrenewal',\n",
      "       'registration_type', 'partial_care_registration_(pcr)_status',\n",
      "       'pcr_level', 'pcr_certificate_number', 'pcr_issuedate',\n",
      "       'pcr_expirydate', 'prog_registration_status', 'prog_registration_level',\n",
      "       'prog_registration_issuedate', 'prog_registration_expirydate',\n",
      "       'prog_certificate_number', 'land_owner', 'building_owner',\n",
      "       'district_name', 'fee_level', 'no_children_enrolled',\n",
      "       'equitable_share_subsidy', 'children_subsidised_equitable_share',\n",
      "       'conditional_grant_subsidy', 'children_subsided_conditional_grant'],\n",
      "      dtype='object')\n"
     ]
    },
    {
     "name": "stderr",
     "output_type": "stream",
     "text": [
      "C:\\Users\\Eddie\\AppData\\Local\\Temp\\ipykernel_3316\\3351110408.py:8: FutureWarning: The default value of regex will change from True to False in a future version. In addition, single character regular expressions will *not* be treated as literal strings when regex=True.\n"
     ]
    }
   ],
   "source": [
    "# Preprocessing\n",
    "# Original column names\n",
    "print(\"Original Column Names:\")\n",
    "print(df.columns)\n",
    "\n",
    "# Clean column names\n",
    "df.columns = df.columns.str.lower().str.replace(' ', '_')\n",
    "df.columns = df.columns.str.lower().str.replace('.', '')\n",
    "\n",
    "# Updated column names\n",
    "print(\"\\nCleaned Column Names:\")\n",
    "print(df.columns)"
   ]
  },
  {
   "cell_type": "markdown",
   "id": "8318cf34",
   "metadata": {},
   "source": [
    "#### Check Data quality"
   ]
  },
  {
   "cell_type": "code",
   "execution_count": 451,
   "id": "054d4fe5",
   "metadata": {
    "scrolled": false
   },
   "outputs": [
    {
     "data": {
      "text/plain": [
       "Index(['province', 'ecd_name', 'clasification', 'service_type', 'neworrenewal',\n",
       "       'registration_type', 'partial_care_registration_(pcr)_status',\n",
       "       'pcr_level', 'pcr_certificate_number', 'pcr_issuedate',\n",
       "       'pcr_expirydate', 'prog_registration_status', 'prog_registration_level',\n",
       "       'prog_registration_issuedate', 'prog_registration_expirydate',\n",
       "       'prog_certificate_number', 'land_owner', 'building_owner',\n",
       "       'district_name', 'fee_level', 'no_children_enrolled',\n",
       "       'equitable_share_subsidy', 'children_subsidised_equitable_share',\n",
       "       'conditional_grant_subsidy', 'children_subsided_conditional_grant'],\n",
       "      dtype='object')"
      ]
     },
     "execution_count": 451,
     "metadata": {},
     "output_type": "execute_result"
    }
   ],
   "source": [
    "df.columns"
   ]
  },
  {
   "cell_type": "markdown",
   "id": "43385789",
   "metadata": {},
   "source": [
    "Date features are taken as objects therefore reformatting these columns is required. Identified columns are: `PCR issueDate`, `PCR expiryDate`, `Prog Registration issueDate` and `Prog Registration expiryDate`."
   ]
  },
  {
   "cell_type": "code",
   "execution_count": 452,
   "id": "4880b04b",
   "metadata": {},
   "outputs": [
    {
     "name": "stdout",
     "output_type": "stream",
     "text": [
      "<class 'pandas.core.frame.DataFrame'>\n",
      "RangeIndex: 922 entries, 0 to 921\n",
      "Data columns (total 25 columns):\n",
      " #   Column                                  Non-Null Count  Dtype         \n",
      "---  ------                                  --------------  -----         \n",
      " 0   province                                922 non-null    object        \n",
      " 1   ecd_name                                922 non-null    object        \n",
      " 2   clasification                           876 non-null    object        \n",
      " 3   service_type                            879 non-null    object        \n",
      " 4   neworrenewal                            232 non-null    object        \n",
      " 5   registration_type                       235 non-null    object        \n",
      " 6   partial_care_registration_(pcr)_status  853 non-null    object        \n",
      " 7   pcr_level                               189 non-null    object        \n",
      " 8   pcr_certificate_number                  207 non-null    object        \n",
      " 9   pcr_issuedate                           191 non-null    datetime64[ns]\n",
      " 10  pcr_expirydate                          191 non-null    datetime64[ns]\n",
      " 11  prog_registration_status                848 non-null    object        \n",
      " 12  prog_registration_level                 188 non-null    object        \n",
      " 13  prog_registration_issuedate             190 non-null    datetime64[ns]\n",
      " 14  prog_registration_expirydate            190 non-null    datetime64[ns]\n",
      " 15  prog_certificate_number                 2 non-null      object        \n",
      " 16  land_owner                              823 non-null    object        \n",
      " 17  building_owner                          822 non-null    object        \n",
      " 18  district_name                           913 non-null    object        \n",
      " 19  fee_level                               900 non-null    float64       \n",
      " 20  no_children_enrolled                    807 non-null    float64       \n",
      " 21  equitable_share_subsidy                 922 non-null    object        \n",
      " 22  children_subsidised_equitable_share     124 non-null    float64       \n",
      " 23  conditional_grant_subsidy               922 non-null    object        \n",
      " 24  children_subsided_conditional_grant     145 non-null    float64       \n",
      "dtypes: datetime64[ns](4), float64(4), object(17)\n",
      "memory usage: 180.2+ KB\n"
     ]
    }
   ],
   "source": [
    "# Assuming your DataFrame is called df and contains the columns mentioned\n",
    "date_columns = ['pcr_issuedate', 'pcr_expirydate', 'prog_registration_issuedate', 'pcr_issuedate', 'prog_registration_expirydate']\n",
    "\n",
    "# Convert date columns to datetime format\n",
    "for col in date_columns:\n",
    "    # Convert the column to datetime data type\n",
    "    df[col] = pd.to_datetime(df[col])\n",
    "df.info()"
   ]
  },
  {
   "cell_type": "markdown",
   "id": "c7727801",
   "metadata": {},
   "source": [
    "#### Drop irrelevant features\n",
    "\n",
    "Features such as `land_owner`, `building_owner` and `prog_registration_number` are not relevant in addressing the problem at hand. Thes features are dropped."
   ]
  },
  {
   "cell_type": "code",
   "execution_count": 453,
   "id": "10223bae",
   "metadata": {},
   "outputs": [
    {
     "name": "stdout",
     "output_type": "stream",
     "text": [
      "<class 'pandas.core.frame.DataFrame'>\n",
      "RangeIndex: 922 entries, 0 to 921\n",
      "Data columns (total 22 columns):\n",
      " #   Column                                  Non-Null Count  Dtype         \n",
      "---  ------                                  --------------  -----         \n",
      " 0   province                                922 non-null    object        \n",
      " 1   ecd_name                                922 non-null    object        \n",
      " 2   clasification                           876 non-null    object        \n",
      " 3   service_type                            879 non-null    object        \n",
      " 4   neworrenewal                            232 non-null    object        \n",
      " 5   registration_type                       235 non-null    object        \n",
      " 6   partial_care_registration_(pcr)_status  853 non-null    object        \n",
      " 7   pcr_level                               189 non-null    object        \n",
      " 8   pcr_certificate_number                  207 non-null    object        \n",
      " 9   pcr_issuedate                           191 non-null    datetime64[ns]\n",
      " 10  pcr_expirydate                          191 non-null    datetime64[ns]\n",
      " 11  prog_registration_status                848 non-null    object        \n",
      " 12  prog_registration_level                 188 non-null    object        \n",
      " 13  prog_registration_issuedate             190 non-null    datetime64[ns]\n",
      " 14  prog_registration_expirydate            190 non-null    datetime64[ns]\n",
      " 15  district_name                           913 non-null    object        \n",
      " 16  fee_level                               900 non-null    float64       \n",
      " 17  no_children_enrolled                    807 non-null    float64       \n",
      " 18  equitable_share_subsidy                 922 non-null    object        \n",
      " 19  children_subsidised_equitable_share     124 non-null    float64       \n",
      " 20  conditional_grant_subsidy               922 non-null    object        \n",
      " 21  children_subsided_conditional_grant     145 non-null    float64       \n",
      "dtypes: datetime64[ns](4), float64(4), object(14)\n",
      "memory usage: 158.6+ KB\n"
     ]
    }
   ],
   "source": [
    "irrelevant_features = ['land_owner', 'building_owner', 'prog_certificate_number']\n",
    "df.drop(columns=irrelevant_features, inplace=True)\n",
    "df.info()"
   ]
  },
  {
   "cell_type": "code",
   "execution_count": 454,
   "id": "45b6cdf1",
   "metadata": {},
   "outputs": [
    {
     "data": {
      "text/html": [
       "<div>\n",
       "<style scoped>\n",
       "    .dataframe tbody tr th:only-of-type {\n",
       "        vertical-align: middle;\n",
       "    }\n",
       "\n",
       "    .dataframe tbody tr th {\n",
       "        vertical-align: top;\n",
       "    }\n",
       "\n",
       "    .dataframe thead th {\n",
       "        text-align: right;\n",
       "    }\n",
       "</style>\n",
       "<table border=\"1\" class=\"dataframe\">\n",
       "  <thead>\n",
       "    <tr style=\"text-align: right;\">\n",
       "      <th></th>\n",
       "      <th>province</th>\n",
       "      <th>ecd_name</th>\n",
       "      <th>clasification</th>\n",
       "      <th>service_type</th>\n",
       "      <th>neworrenewal</th>\n",
       "      <th>registration_type</th>\n",
       "      <th>partial_care_registration_(pcr)_status</th>\n",
       "      <th>pcr_level</th>\n",
       "      <th>pcr_certificate_number</th>\n",
       "      <th>pcr_issuedate</th>\n",
       "      <th>...</th>\n",
       "      <th>prog_registration_level</th>\n",
       "      <th>prog_registration_issuedate</th>\n",
       "      <th>prog_registration_expirydate</th>\n",
       "      <th>district_name</th>\n",
       "      <th>fee_level</th>\n",
       "      <th>no_children_enrolled</th>\n",
       "      <th>equitable_share_subsidy</th>\n",
       "      <th>children_subsidised_equitable_share</th>\n",
       "      <th>conditional_grant_subsidy</th>\n",
       "      <th>children_subsided_conditional_grant</th>\n",
       "    </tr>\n",
       "  </thead>\n",
       "  <tbody>\n",
       "    <tr>\n",
       "      <th>0</th>\n",
       "      <td>Southern Cape</td>\n",
       "      <td>ECD 1</td>\n",
       "      <td>Centre based</td>\n",
       "      <td>ECD centre</td>\n",
       "      <td>Renewal</td>\n",
       "      <td>ECD Programme in Partial Care Facility</td>\n",
       "      <td>Fully registered</td>\n",
       "      <td>GOLD</td>\n",
       "      <td>DC 20/00</td>\n",
       "      <td>2019-12-19</td>\n",
       "      <td>...</td>\n",
       "      <td>GOLD</td>\n",
       "      <td>2019-12-19</td>\n",
       "      <td>2024-12-31</td>\n",
       "      <td>Disitrct 1</td>\n",
       "      <td>1.0</td>\n",
       "      <td>35.0</td>\n",
       "      <td>Yes</td>\n",
       "      <td>40.0</td>\n",
       "      <td>Yes</td>\n",
       "      <td>40.0</td>\n",
       "    </tr>\n",
       "    <tr>\n",
       "      <th>1</th>\n",
       "      <td>Southern Cape</td>\n",
       "      <td>ECD 2</td>\n",
       "      <td>Centre based</td>\n",
       "      <td>ECD centre</td>\n",
       "      <td>Renewal</td>\n",
       "      <td>ECD Programme in Partial Care Facility</td>\n",
       "      <td>Fully registered</td>\n",
       "      <td>GOLD</td>\n",
       "      <td>DC 07/21</td>\n",
       "      <td>2021-03-31</td>\n",
       "      <td>...</td>\n",
       "      <td>GOLD</td>\n",
       "      <td>2021-03-31</td>\n",
       "      <td>2026-03-31</td>\n",
       "      <td>Disitrct 3</td>\n",
       "      <td>1.0</td>\n",
       "      <td>NaN</td>\n",
       "      <td>No</td>\n",
       "      <td>NaN</td>\n",
       "      <td>No</td>\n",
       "      <td>NaN</td>\n",
       "    </tr>\n",
       "    <tr>\n",
       "      <th>2</th>\n",
       "      <td>Southern Cape</td>\n",
       "      <td>ECD 3</td>\n",
       "      <td>Centre based</td>\n",
       "      <td>ECD centre</td>\n",
       "      <td>NaN</td>\n",
       "      <td>NaN</td>\n",
       "      <td>Not registered</td>\n",
       "      <td>NaN</td>\n",
       "      <td>NaN</td>\n",
       "      <td>NaT</td>\n",
       "      <td>...</td>\n",
       "      <td>NaN</td>\n",
       "      <td>NaT</td>\n",
       "      <td>NaT</td>\n",
       "      <td>Disitrct 2</td>\n",
       "      <td>2.0</td>\n",
       "      <td>31.0</td>\n",
       "      <td>No</td>\n",
       "      <td>NaN</td>\n",
       "      <td>No</td>\n",
       "      <td>NaN</td>\n",
       "    </tr>\n",
       "    <tr>\n",
       "      <th>3</th>\n",
       "      <td>Southern Cape</td>\n",
       "      <td>ECD 4</td>\n",
       "      <td>Centre based</td>\n",
       "      <td>ECD centre</td>\n",
       "      <td>Renewal</td>\n",
       "      <td>ECD Programme in Partial Care Facility</td>\n",
       "      <td>Conditionally registered</td>\n",
       "      <td>BRONZE</td>\n",
       "      <td>DC 03/18</td>\n",
       "      <td>2019-09-25</td>\n",
       "      <td>...</td>\n",
       "      <td>BRONZE</td>\n",
       "      <td>2019-09-25</td>\n",
       "      <td>2023-09-25</td>\n",
       "      <td>Disitrct 3</td>\n",
       "      <td>1.0</td>\n",
       "      <td>23.0</td>\n",
       "      <td>Yes</td>\n",
       "      <td>23.0</td>\n",
       "      <td>Yes</td>\n",
       "      <td>23.0</td>\n",
       "    </tr>\n",
       "    <tr>\n",
       "      <th>4</th>\n",
       "      <td>Southern Cape</td>\n",
       "      <td>ECD 5</td>\n",
       "      <td>Centre based</td>\n",
       "      <td>ECD centre</td>\n",
       "      <td>NaN</td>\n",
       "      <td>NaN</td>\n",
       "      <td>Not registered</td>\n",
       "      <td>NaN</td>\n",
       "      <td>NaN</td>\n",
       "      <td>NaT</td>\n",
       "      <td>...</td>\n",
       "      <td>NaN</td>\n",
       "      <td>NaT</td>\n",
       "      <td>NaT</td>\n",
       "      <td>Disitrct 2</td>\n",
       "      <td>2.0</td>\n",
       "      <td>5.0</td>\n",
       "      <td>No</td>\n",
       "      <td>NaN</td>\n",
       "      <td>No</td>\n",
       "      <td>NaN</td>\n",
       "    </tr>\n",
       "  </tbody>\n",
       "</table>\n",
       "<p>5 rows × 22 columns</p>\n",
       "</div>"
      ],
      "text/plain": [
       "        province ecd_name clasification service_type neworrenewal  \\\n",
       "0  Southern Cape    ECD 1  Centre based   ECD centre      Renewal   \n",
       "1  Southern Cape    ECD 2  Centre based   ECD centre      Renewal   \n",
       "2  Southern Cape    ECD 3  Centre based   ECD centre          NaN   \n",
       "3  Southern Cape    ECD 4  Centre based   ECD centre      Renewal   \n",
       "4  Southern Cape    ECD 5  Centre based   ECD centre          NaN   \n",
       "\n",
       "                        registration_type  \\\n",
       "0  ECD Programme in Partial Care Facility   \n",
       "1  ECD Programme in Partial Care Facility   \n",
       "2                                     NaN   \n",
       "3  ECD Programme in Partial Care Facility   \n",
       "4                                     NaN   \n",
       "\n",
       "  partial_care_registration_(pcr)_status pcr_level pcr_certificate_number  \\\n",
       "0                       Fully registered      GOLD               DC 20/00   \n",
       "1                       Fully registered      GOLD               DC 07/21   \n",
       "2                         Not registered       NaN                    NaN   \n",
       "3               Conditionally registered    BRONZE               DC 03/18   \n",
       "4                         Not registered       NaN                    NaN   \n",
       "\n",
       "  pcr_issuedate  ... prog_registration_level prog_registration_issuedate  \\\n",
       "0    2019-12-19  ...                    GOLD                  2019-12-19   \n",
       "1    2021-03-31  ...                    GOLD                  2021-03-31   \n",
       "2           NaT  ...                     NaN                         NaT   \n",
       "3    2019-09-25  ...                  BRONZE                  2019-09-25   \n",
       "4           NaT  ...                     NaN                         NaT   \n",
       "\n",
       "  prog_registration_expirydate district_name fee_level no_children_enrolled  \\\n",
       "0                   2024-12-31    Disitrct 1       1.0                 35.0   \n",
       "1                   2026-03-31    Disitrct 3       1.0                  NaN   \n",
       "2                          NaT    Disitrct 2       2.0                 31.0   \n",
       "3                   2023-09-25    Disitrct 3       1.0                 23.0   \n",
       "4                          NaT    Disitrct 2       2.0                  5.0   \n",
       "\n",
       "   equitable_share_subsidy  children_subsidised_equitable_share  \\\n",
       "0                      Yes                                 40.0   \n",
       "1                       No                                  NaN   \n",
       "2                       No                                  NaN   \n",
       "3                      Yes                                 23.0   \n",
       "4                       No                                  NaN   \n",
       "\n",
       "  conditional_grant_subsidy  children_subsided_conditional_grant  \n",
       "0                       Yes                                 40.0  \n",
       "1                        No                                  NaN  \n",
       "2                        No                                  NaN  \n",
       "3                       Yes                                 23.0  \n",
       "4                        No                                  NaN  \n",
       "\n",
       "[5 rows x 22 columns]"
      ]
     },
     "execution_count": 454,
     "metadata": {},
     "output_type": "execute_result"
    }
   ],
   "source": [
    "df.head()"
   ]
  },
  {
   "cell_type": "code",
   "execution_count": 455,
   "id": "38e4b212",
   "metadata": {},
   "outputs": [
    {
     "data": {
      "text/plain": [
       "province                                  0.000000\n",
       "ecd_name                                  0.000000\n",
       "clasification                             0.049892\n",
       "service_type                              0.046638\n",
       "neworrenewal                              0.748373\n",
       "registration_type                         0.745119\n",
       "partial_care_registration_(pcr)_status    0.074837\n",
       "pcr_level                                 0.795011\n",
       "pcr_certificate_number                    0.775488\n",
       "pcr_issuedate                             0.792842\n",
       "pcr_expirydate                            0.792842\n",
       "prog_registration_status                  0.080260\n",
       "prog_registration_level                   0.796095\n",
       "prog_registration_issuedate               0.793926\n",
       "prog_registration_expirydate              0.793926\n",
       "district_name                             0.009761\n",
       "fee_level                                 0.023861\n",
       "no_children_enrolled                      0.124729\n",
       "equitable_share_subsidy                   0.000000\n",
       "children_subsidised_equitable_share       0.865510\n",
       "conditional_grant_subsidy                 0.000000\n",
       "children_subsided_conditional_grant       0.842733\n",
       "dtype: float64"
      ]
     },
     "execution_count": 455,
     "metadata": {},
     "output_type": "execute_result"
    }
   ],
   "source": [
    "# Check missing values\n",
    "df.isnull().sum()/len(df)"
   ]
  },
  {
   "cell_type": "markdown",
   "id": "5047b919",
   "metadata": {},
   "source": [
    "## Exercise 1 Question:\n",
    "Using the extract of fictitious data that has been provided develop a registration dashboard that shows registration status by district. \n",
    "\n",
    "___(When presenting back this dashboard in interview phase you will help the ECD Director to see how the dashboard can help to target efforts for registration.)___"
   ]
  },
  {
   "cell_type": "code",
   "execution_count": 456,
   "id": "a0a7cb41",
   "metadata": {},
   "outputs": [
    {
     "data": {
      "text/html": [
       "<div>\n",
       "<style scoped>\n",
       "    .dataframe tbody tr th:only-of-type {\n",
       "        vertical-align: middle;\n",
       "    }\n",
       "\n",
       "    .dataframe tbody tr th {\n",
       "        vertical-align: top;\n",
       "    }\n",
       "\n",
       "    .dataframe thead th {\n",
       "        text-align: right;\n",
       "    }\n",
       "</style>\n",
       "<table border=\"1\" class=\"dataframe\">\n",
       "  <thead>\n",
       "    <tr style=\"text-align: right;\">\n",
       "      <th>partial_care_registration_(pcr)_status</th>\n",
       "      <th>district_name</th>\n",
       "      <th>Conditionally registered</th>\n",
       "      <th>Fully registered</th>\n",
       "      <th>In process</th>\n",
       "      <th>Lapsed registration</th>\n",
       "      <th>Not registered</th>\n",
       "    </tr>\n",
       "  </thead>\n",
       "  <tbody>\n",
       "    <tr>\n",
       "      <th>0</th>\n",
       "      <td>Disitrct 1</td>\n",
       "      <td>34</td>\n",
       "      <td>16</td>\n",
       "      <td>0</td>\n",
       "      <td>2</td>\n",
       "      <td>46</td>\n",
       "    </tr>\n",
       "    <tr>\n",
       "      <th>1</th>\n",
       "      <td>Disitrct 2</td>\n",
       "      <td>9</td>\n",
       "      <td>62</td>\n",
       "      <td>49</td>\n",
       "      <td>5</td>\n",
       "      <td>139</td>\n",
       "    </tr>\n",
       "    <tr>\n",
       "      <th>2</th>\n",
       "      <td>Disitrct 3</td>\n",
       "      <td>32</td>\n",
       "      <td>84</td>\n",
       "      <td>18</td>\n",
       "      <td>18</td>\n",
       "      <td>100</td>\n",
       "    </tr>\n",
       "    <tr>\n",
       "      <th>3</th>\n",
       "      <td>Disitrct 4</td>\n",
       "      <td>11</td>\n",
       "      <td>16</td>\n",
       "      <td>0</td>\n",
       "      <td>15</td>\n",
       "      <td>27</td>\n",
       "    </tr>\n",
       "    <tr>\n",
       "      <th>4</th>\n",
       "      <td>Disitrct 5</td>\n",
       "      <td>38</td>\n",
       "      <td>5</td>\n",
       "      <td>2</td>\n",
       "      <td>12</td>\n",
       "      <td>113</td>\n",
       "    </tr>\n",
       "  </tbody>\n",
       "</table>\n",
       "</div>"
      ],
      "text/plain": [
       "partial_care_registration_(pcr)_status district_name  \\\n",
       "0                                         Disitrct 1   \n",
       "1                                         Disitrct 2   \n",
       "2                                         Disitrct 3   \n",
       "3                                         Disitrct 4   \n",
       "4                                         Disitrct 5   \n",
       "\n",
       "partial_care_registration_(pcr)_status  Conditionally registered  \\\n",
       "0                                                             34   \n",
       "1                                                              9   \n",
       "2                                                             32   \n",
       "3                                                             11   \n",
       "4                                                             38   \n",
       "\n",
       "partial_care_registration_(pcr)_status  Fully registered  In process  \\\n",
       "0                                                     16           0   \n",
       "1                                                     62          49   \n",
       "2                                                     84          18   \n",
       "3                                                     16           0   \n",
       "4                                                      5           2   \n",
       "\n",
       "partial_care_registration_(pcr)_status  Lapsed registration  Not registered  \n",
       "0                                                         2              46  \n",
       "1                                                         5             139  \n",
       "2                                                        18             100  \n",
       "3                                                        15              27  \n",
       "4                                                        12             113  "
      ]
     },
     "execution_count": 456,
     "metadata": {},
     "output_type": "execute_result"
    }
   ],
   "source": [
    "df_grouped = (\n",
    "    df.groupby(['district_name', 'partial_care_registration_(pcr)_status'])\n",
    "    .size()\n",
    "    .unstack(fill_value=0)\n",
    "    .reset_index()\n",
    ")\n",
    "df_grouped"
   ]
  },
  {
   "cell_type": "code",
   "execution_count": 457,
   "id": "439bf768",
   "metadata": {
    "scrolled": false
   },
   "outputs": [
    {
     "data": {
      "image/png": "[encoded data removed]",
      "text/plain": [
       "<Figure size 1000x600 with 5 Axes>"
      ]
     },
     "metadata": {
      "image/png": {
       "height": 600,
       "width": 1000
      }
     },
     "output_type": "display_data"
    },
    {
     "name": "stdout",
     "output_type": "stream",
     "text": [
      "\n"
     ]
    }
   ],
   "source": [
    "\n",
    "# Convert dataframe to long format for easier plotting\n",
    "df_long = df_grouped.melt(id_vars='district_name', var_name='registration_status', value_name='count')\n",
    "\n",
    "# Plot using plotnine\n",
    "p = (\n",
    "    ggplot(df_long, aes(x='district_name', y='count', fill='registration_status')) + \n",
    "    geom_bar(stat='identity', position='stack') + facet_wrap('~registration_status', scales='free_y') +\n",
    "    labs(title='Registration Status by District', x='District', y='Number of ECD Services') +\n",
    "    theme(axis_text_x=element_text(rotation=60, hjust=1), figure_size=(10, 6))\n",
    ")\n",
    "\n",
    "# Add annotations\n",
    "p = p + geom_text(aes(label='count'), position=position_stack(vjust=0.5), size=12)\n",
    "\n",
    "print(p)"
   ]
  },
  {
   "cell_type": "markdown",
   "id": "7e37ae9c",
   "metadata": {},
   "source": [
    "#### Reporting on target efforts to help ECD Director:\n",
    "\n",
    "___Key Insights:___\n",
    "\n",
    "Districts vary in the distribution of partial care registration statuses. Some districts have a higher proportion of fully registered facilities, indicating strong compliance with registration requirements.\n",
    "In contrast, other districts have a significant number of facilities with lapsed registrations or are not registered, highlighting potential challenges in maintaining compliance and ensuring access to quality care.\n",
    "District 2 stands out with a large number of facilities in process of registration, suggesting ongoing efforts to expand and register facilities to meet the needs of the community.\n",
    "\n",
    "___Recommendations:___\n",
    "\n",
    "Strengthen support and resources for facilities with lapsed registrations to help them regain compliance and provide uninterrupted services to children.\n",
    "Continue efforts to streamline the registration process and provide assistance to facilities in process of registration to expedite the approval process.\n",
    "Implement targeted interventions to address barriers to registration and compliance in districts with a high number of facilities not registered.\n"
   ]
  },
  {
   "cell_type": "markdown",
   "id": "4faacaf8",
   "metadata": {},
   "source": [
    "## Exercise 2 Question:\n",
    "Develop a funding dashboard that compares the number of children accessing ECD programmes to the number that are funded through equitable share or conditional grant funding. \n",
    "\n",
    "___(In the interview phase: Given that only registered ECD programmes can be funded; and that Fee Level 1 programmes are the poorest, explain to the ECD Director what the data tells you about some ways to target and increase funding numbers assuming that there is budget available.)___"
   ]
  },
  {
   "cell_type": "code",
   "execution_count": 458,
   "id": "630443f6",
   "metadata": {},
   "outputs": [
    {
     "name": "stderr",
     "output_type": "stream",
     "text": [
      "C:\\Users\\Eddie\\AppData\\Local\\Temp\\ipykernel_3316\\50407138.py:7: FutureWarning: The default value of numeric_only in DataFrameGroupBy.sum is deprecated. In a future version, numeric_only will default to False. Either specify numeric_only or select only columns which should be valid for the function.\n"
     ]
    },
    {
     "data": {
      "text/html": [
       "<div>\n",
       "<style scoped>\n",
       "    .dataframe tbody tr th:only-of-type {\n",
       "        vertical-align: middle;\n",
       "    }\n",
       "\n",
       "    .dataframe tbody tr th {\n",
       "        vertical-align: top;\n",
       "    }\n",
       "\n",
       "    .dataframe thead th {\n",
       "        text-align: right;\n",
       "    }\n",
       "</style>\n",
       "<table border=\"1\" class=\"dataframe\">\n",
       "  <thead>\n",
       "    <tr style=\"text-align: right;\">\n",
       "      <th></th>\n",
       "      <th>fee_level</th>\n",
       "      <th>no_children_enrolled</th>\n",
       "      <th>children_subsidised_equitable_share</th>\n",
       "      <th>children_subsided_conditional_grant</th>\n",
       "    </tr>\n",
       "  </thead>\n",
       "  <tbody>\n",
       "    <tr>\n",
       "      <th>0</th>\n",
       "      <td>1.0</td>\n",
       "      <td>14422.0</td>\n",
       "      <td>5014.0</td>\n",
       "      <td>5108.0</td>\n",
       "    </tr>\n",
       "    <tr>\n",
       "      <th>1</th>\n",
       "      <td>2.0</td>\n",
       "      <td>6970.0</td>\n",
       "      <td>279.0</td>\n",
       "      <td>325.0</td>\n",
       "    </tr>\n",
       "    <tr>\n",
       "      <th>2</th>\n",
       "      <td>3.0</td>\n",
       "      <td>3508.0</td>\n",
       "      <td>244.0</td>\n",
       "      <td>285.0</td>\n",
       "    </tr>\n",
       "    <tr>\n",
       "      <th>3</th>\n",
       "      <td>4.0</td>\n",
       "      <td>3212.0</td>\n",
       "      <td>28.0</td>\n",
       "      <td>28.0</td>\n",
       "    </tr>\n",
       "    <tr>\n",
       "      <th>4</th>\n",
       "      <td>5.0</td>\n",
       "      <td>1458.0</td>\n",
       "      <td>0.0</td>\n",
       "      <td>0.0</td>\n",
       "    </tr>\n",
       "  </tbody>\n",
       "</table>\n",
       "</div>"
      ],
      "text/plain": [
       "   fee_level  no_children_enrolled  children_subsidised_equitable_share  \\\n",
       "0        1.0               14422.0                               5014.0   \n",
       "1        2.0                6970.0                                279.0   \n",
       "2        3.0                3508.0                                244.0   \n",
       "3        4.0                3212.0                                 28.0   \n",
       "4        5.0                1458.0                                  0.0   \n",
       "\n",
       "   children_subsided_conditional_grant  \n",
       "0                               5108.0  \n",
       "1                                325.0  \n",
       "2                                285.0  \n",
       "3                                 28.0  \n",
       "4                                  0.0  "
      ]
     },
     "execution_count": 458,
     "metadata": {},
     "output_type": "execute_result"
    }
   ],
   "source": [
    "# Data analysis\n",
    "total_children_accessing_ecd = df['no_children_enrolled'].sum()\n",
    "total_funded_equitable_share = df['children_subsidised_equitable_share'].sum()\n",
    "total_funded_conditional_grant = df['children_subsided_conditional_grant'].sum()\n",
    "\n",
    "# Distribution of children across fee levels\n",
    "fee_level_distribution = df.groupby('fee_level').sum()[['no_children_enrolled', 'children_subsidised_equitable_share', 'children_subsided_conditional_grant']]\n",
    "\n",
    "fee_level_distribution = fee_level_distribution.reset_index()\n",
    "fee_level_distribution"
   ]
  },
  {
   "cell_type": "code",
   "execution_count": 459,
   "id": "f25caa1e",
   "metadata": {},
   "outputs": [
    {
     "data": {
      "application/vnd.plotly.v1+json": {
       "config": {
        "plotlyServerURL": "https://plot.ly"
       },
       "data": [
        {
         "name": "No Children Enrolled",
         "type": "bar",
         "x": [
          1,
          2,
          3,
          4,
          5
         ],
         "y": [
          14422,
          6970,
          3508,
          3212,
          1458
         ]
        },
        {
         "name": "Children Subsidised Equitable Share",
         "type": "bar",
         "x": [
          1,
          2,
          3,
          4,
          5
         ],
         "y": [
          5014,
          279,
          244,
          28,
          0
         ]
        },
        {
         "name": "Children Subsidised Conditional Grant",
         "type": "bar",
         "x": [
          1,
          2,
          3,
          4,
          5
         ],
         "y": [
          5108,
          325,
          285,
          28,
          0
         ]
        }
       ],
       "layout": {
        "barmode": "stack",
        "template": {
         "data": {
          "bar": [
           {
            "error_x": {
             "color": "#2a3f5f"
            },
            "error_y": {
             "color": "#2a3f5f"
            },
            "marker": {
             "line": {
              "color": "#E5ECF6",
              "width": 0.5
             },
             "pattern": {
              "fillmode": "overlay",
              "size": 10,
              "solidity": 0.2
             }
            },
            "type": "bar"
           }
          ],
          "barpolar": [
           {
            "marker": {
             "line": {
              "color": "#E5ECF6",
              "width": 0.5
             },
             "pattern": {
              "fillmode": "overlay",
              "size": 10,
              "solidity": 0.2
             }
            },
            "type": "barpolar"
           }
          ],
          "carpet": [
           {
            "aaxis": {
             "endlinecolor": "#2a3f5f",
             "gridcolor": "white",
             "linecolor": "white",
             "minorgridcolor": "white",
             "startlinecolor": "#2a3f5f"
            },
            "baxis": {
             "endlinecolor": "#2a3f5f",
             "gridcolor": "white",
             "linecolor": "white",
             "minorgridcolor": "white",
             "startlinecolor": "#2a3f5f"
            },
            "type": "carpet"
           }
          ],
          "choropleth": [
           {
            "colorbar": {
             "outlinewidth": 0,
             "ticks": ""
            },
            "type": "choropleth"
           }
          ],
          "contour": [
           {
            "colorbar": {
             "outlinewidth": 0,
             "ticks": ""
            },
            "colorscale": [
             [
              0,
              "#0d0887"
             ],
             [
              0.1111111111111111,
              "#46039f"
             ],
             [
              0.2222222222222222,
              "#7201a8"
             ],
             [
              0.3333333333333333,
              "#9c179e"
             ],
             [
              0.4444444444444444,
              "#bd3786"
             ],
             [
              0.5555555555555556,
              "#d8576b"
             ],
             [
              0.6666666666666666,
              "#ed7953"
             ],
             [
              0.7777777777777778,
              "#fb9f3a"
             ],
             [
              0.8888888888888888,
              "#fdca26"
             ],
             [
              1,
              "#f0f921"
             ]
            ],
            "type": "contour"
           }
          ],
          "contourcarpet": [
           {
            "colorbar": {
             "outlinewidth": 0,
             "ticks": ""
            },
            "type": "contourcarpet"
           }
          ],
          "heatmap": [
           {
            "colorbar": {
             "outlinewidth": 0,
             "ticks": ""
            },
            "colorscale": [
             [
              0,
              "#0d0887"
             ],
             [
              0.1111111111111111,
              "#46039f"
             ],
             [
              0.2222222222222222,
              "#7201a8"
             ],
             [
              0.3333333333333333,
              "#9c179e"
             ],
             [
              0.4444444444444444,
              "#bd3786"
             ],
             [
              0.5555555555555556,
              "#d8576b"
             ],
             [
              0.6666666666666666,
              "#ed7953"
             ],
             [
              0.7777777777777778,
              "#fb9f3a"
             ],
             [
              0.8888888888888888,
              "#fdca26"
             ],
             [
              1,
              "#f0f921"
             ]
            ],
            "type": "heatmap"
           }
          ],
          "heatmapgl": [
           {
            "colorbar": {
             "outlinewidth": 0,
             "ticks": ""
            },
            "colorscale": [
             [
              0,
              "#0d0887"
             ],
             [
              0.1111111111111111,
              "#46039f"
             ],
             [
              0.2222222222222222,
              "#7201a8"
             ],
             [
              0.3333333333333333,
              "#9c179e"
             ],
             [
              0.4444444444444444,
              "#bd3786"
             ],
             [
              0.5555555555555556,
              "#d8576b"
             ],
             [
              0.6666666666666666,
              "#ed7953"
             ],
             [
              0.7777777777777778,
              "#fb9f3a"
             ],
             [
              0.8888888888888888,
              "#fdca26"
             ],
             [
              1,
              "#f0f921"
             ]
            ],
            "type": "heatmapgl"
           }
          ],
          "histogram": [
           {
            "marker": {
             "pattern": {
              "fillmode": "overlay",
              "size": 10,
              "solidity": 0.2
             }
            },
            "type": "histogram"
           }
          ],
          "histogram2d": [
           {
            "colorbar": {
             "outlinewidth": 0,
             "ticks": ""
            },
            "colorscale": [
             [
              0,
              "#0d0887"
             ],
             [
              0.1111111111111111,
              "#46039f"
             ],
             [
              0.2222222222222222,
              "#7201a8"
             ],
             [
              0.3333333333333333,
              "#9c179e"
             ],
             [
              0.4444444444444444,
              "#bd3786"
             ],
             [
              0.5555555555555556,
              "#d8576b"
             ],
             [
              0.6666666666666666,
              "#ed7953"
             ],
             [
              0.7777777777777778,
              "#fb9f3a"
             ],
             [
              0.8888888888888888,
              "#fdca26"
             ],
             [
              1,
              "#f0f921"
             ]
            ],
            "type": "histogram2d"
           }
          ],
          "histogram2dcontour": [
           {
            "colorbar": {
             "outlinewidth": 0,
             "ticks": ""
            },
            "colorscale": [
             [
              0,
              "#0d0887"
             ],
             [
              0.1111111111111111,
              "#46039f"
             ],
             [
              0.2222222222222222,
              "#7201a8"
             ],
             [
              0.3333333333333333,
              "#9c179e"
             ],
             [
              0.4444444444444444,
              "#bd3786"
             ],
             [
              0.5555555555555556,
              "#d8576b"
             ],
             [
              0.6666666666666666,
              "#ed7953"
             ],
             [
              0.7777777777777778,
              "#fb9f3a"
             ],
             [
              0.8888888888888888,
              "#fdca26"
             ],
             [
              1,
              "#f0f921"
             ]
            ],
            "type": "histogram2dcontour"
           }
          ],
          "mesh3d": [
           {
            "colorbar": {
             "outlinewidth": 0,
             "ticks": ""
            },
            "type": "mesh3d"
           }
          ],
          "parcoords": [
           {
            "line": {
             "colorbar": {
              "outlinewidth": 0,
              "ticks": ""
             }
            },
            "type": "parcoords"
           }
          ],
          "pie": [
           {
            "automargin": true,
            "type": "pie"
           }
          ],
          "scatter": [
           {
            "fillpattern": {
             "fillmode": "overlay",
             "size": 10,
             "solidity": 0.2
            },
            "type": "scatter"
           }
          ],
          "scatter3d": [
           {
            "line": {
             "colorbar": {
              "outlinewidth": 0,
              "ticks": ""
             }
            },
            "marker": {
             "colorbar": {
              "outlinewidth": 0,
              "ticks": ""
             }
            },
            "type": "scatter3d"
           }
          ],
          "scattercarpet": [
           {
            "marker": {
             "colorbar": {
              "outlinewidth": 0,
              "ticks": ""
             }
            },
            "type": "scattercarpet"
           }
          ],
          "scattergeo": [
           {
            "marker": {
             "colorbar": {
              "outlinewidth": 0,
              "ticks": ""
             }
            },
            "type": "scattergeo"
           }
          ],
          "scattergl": [
           {
            "marker": {
             "colorbar": {
              "outlinewidth": 0,
              "ticks": ""
             }
            },
            "type": "scattergl"
           }
          ],
          "scattermapbox": [
           {
            "marker": {
             "colorbar": {
              "outlinewidth": 0,
              "ticks": ""
             }
            },
            "type": "scattermapbox"
           }
          ],
          "scatterpolar": [
           {
            "marker": {
             "colorbar": {
              "outlinewidth": 0,
              "ticks": ""
             }
            },
            "type": "scatterpolar"
           }
          ],
          "scatterpolargl": [
           {
            "marker": {
             "colorbar": {
              "outlinewidth": 0,
              "ticks": ""
             }
            },
            "type": "scatterpolargl"
           }
          ],
          "scatterternary": [
           {
            "marker": {
             "colorbar": {
              "outlinewidth": 0,
              "ticks": ""
             }
            },
            "type": "scatterternary"
           }
          ],
          "surface": [
           {
            "colorbar": {
             "outlinewidth": 0,
             "ticks": ""
            },
            "colorscale": [
             [
              0,
              "#0d0887"
             ],
             [
              0.1111111111111111,
              "#46039f"
             ],
             [
              0.2222222222222222,
              "#7201a8"
             ],
             [
              0.3333333333333333,
              "#9c179e"
             ],
             [
              0.4444444444444444,
              "#bd3786"
             ],
             [
              0.5555555555555556,
              "#d8576b"
             ],
             [
              0.6666666666666666,
              "#ed7953"
             ],
             [
              0.7777777777777778,
              "#fb9f3a"
             ],
             [
              0.8888888888888888,
              "#fdca26"
             ],
             [
              1,
              "#f0f921"
             ]
            ],
            "type": "surface"
           }
          ],
          "table": [
           {
            "cells": {
             "fill": {
              "color": "#EBF0F8"
             },
             "line": {
              "color": "white"
             }
            },
            "header": {
             "fill": {
              "color": "#C8D4E3"
             },
             "line": {
              "color": "white"
             }
            },
            "type": "table"
           }
          ]
         },
         "layout": {
          "annotationdefaults": {
           "arrowcolor": "#2a3f5f",
           "arrowhead": 0,
           "arrowwidth": 1
          },
          "autotypenumbers": "strict",
          "coloraxis": {
           "colorbar": {
            "outlinewidth": 0,
            "ticks": ""
           }
          },
          "colorscale": {
           "diverging": [
            [
             0,
             "#8e0152"
            ],
            [
             0.1,
             "#c51b7d"
            ],
            [
             0.2,
             "#de77ae"
            ],
            [
             0.3,
             "#f1b6da"
            ],
            [
             0.4,
             "#fde0ef"
            ],
            [
             0.5,
             "#f7f7f7"
            ],
            [
             0.6,
             "#e6f5d0"
            ],
            [
             0.7,
             "#b8e186"
            ],
            [
             0.8,
             "#7fbc41"
            ],
            [
             0.9,
             "#4d9221"
            ],
            [
             1,
             "#276419"
            ]
           ],
           "sequential": [
            [
             0,
             "#0d0887"
            ],
            [
             0.1111111111111111,
             "#46039f"
            ],
            [
             0.2222222222222222,
             "#7201a8"
            ],
            [
             0.3333333333333333,
             "#9c179e"
            ],
            [
             0.4444444444444444,
             "#bd3786"
            ],
            [
             0.5555555555555556,
             "#d8576b"
            ],
            [
             0.6666666666666666,
             "#ed7953"
            ],
            [
             0.7777777777777778,
             "#fb9f3a"
            ],
            [
             0.8888888888888888,
             "#fdca26"
            ],
            [
             1,
             "#f0f921"
            ]
           ],
           "sequentialminus": [
            [
             0,
             "#0d0887"
            ],
            [
             0.1111111111111111,
             "#46039f"
            ],
            [
             0.2222222222222222,
             "#7201a8"
            ],
            [
             0.3333333333333333,
             "#9c179e"
            ],
            [
             0.4444444444444444,
             "#bd3786"
            ],
            [
             0.5555555555555556,
             "#d8576b"
            ],
            [
             0.6666666666666666,
             "#ed7953"
            ],
            [
             0.7777777777777778,
             "#fb9f3a"
            ],
            [
             0.8888888888888888,
             "#fdca26"
            ],
            [
             1,
             "#f0f921"
            ]
           ]
          },
          "colorway": [
           "#636efa",
           "#EF553B",
           "#00cc96",
           "#ab63fa",
           "#FFA15A",
           "#19d3f3",
           "#FF6692",
           "#B6E880",
           "#FF97FF",
           "#FECB52"
          ],
          "font": {
           "color": "#2a3f5f"
          },
          "geo": {
           "bgcolor": "white",
           "lakecolor": "white",
           "landcolor": "#E5ECF6",
           "showlakes": true,
           "showland": true,
           "subunitcolor": "white"
          },
          "hoverlabel": {
           "align": "left"
          },
          "hovermode": "closest",
          "mapbox": {
           "style": "light"
          },
          "paper_bgcolor": "white",
          "plot_bgcolor": "#E5ECF6",
          "polar": {
           "angularaxis": {
            "gridcolor": "white",
            "linecolor": "white",
            "ticks": ""
           },
           "bgcolor": "#E5ECF6",
           "radialaxis": {
            "gridcolor": "white",
            "linecolor": "white",
            "ticks": ""
           }
          },
          "scene": {
           "xaxis": {
            "backgroundcolor": "#E5ECF6",
            "gridcolor": "white",
            "gridwidth": 2,
            "linecolor": "white",
            "showbackground": true,
            "ticks": "",
            "zerolinecolor": "white"
           },
           "yaxis": {
            "backgroundcolor": "#E5ECF6",
            "gridcolor": "white",
            "gridwidth": 2,
            "linecolor": "white",
            "showbackground": true,
            "ticks": "",
            "zerolinecolor": "white"
           },
           "zaxis": {
            "backgroundcolor": "#E5ECF6",
            "gridcolor": "white",
            "gridwidth": 2,
            "linecolor": "white",
            "showbackground": true,
            "ticks": "",
            "zerolinecolor": "white"
           }
          },
          "shapedefaults": {
           "line": {
            "color": "#2a3f5f"
           }
          },
          "ternary": {
           "aaxis": {
            "gridcolor": "white",
            "linecolor": "white",
            "ticks": ""
           },
           "baxis": {
            "gridcolor": "white",
            "linecolor": "white",
            "ticks": ""
           },
           "bgcolor": "#E5ECF6",
           "caxis": {
            "gridcolor": "white",
            "linecolor": "white",
            "ticks": ""
           }
          },
          "title": {
           "x": 0.05
          },
          "xaxis": {
           "automargin": true,
           "gridcolor": "white",
           "linecolor": "white",
           "ticks": "",
           "title": {
            "standoff": 15
           },
           "zerolinecolor": "white",
           "zerolinewidth": 2
          },
          "yaxis": {
           "automargin": true,
           "gridcolor": "white",
           "linecolor": "white",
           "ticks": "",
           "title": {
            "standoff": 15
           },
           "zerolinecolor": "white",
           "zerolinewidth": 2
          }
         }
        },
        "title": {
         "text": "Comparison of Children Accessing ECD Programs and Funded Ones"
        },
        "xaxis": {
         "title": {
          "text": "Fee Level"
         }
        },
        "yaxis": {
         "title": {
          "text": "Number of Children"
         }
        }
       }
      },
      "text/html": [
       "<div>                            <div id=\"63af4c8f-6628-45fd-9897-cf17fa8bec8e\" class=\"plotly-graph-div\" style=\"height:525px; width:100%;\"></div>            <script type=\"text/javascript\">                require([\"plotly\"], function(Plotly) {                    window.PLOTLYENV=window.PLOTLYENV || {};                                    if (document.getElementById(\"63af4c8f-6628-45fd-9897-cf17fa8bec8e\")) {                    Plotly.newPlot(                        \"63af4c8f-6628-45fd-9897-cf17fa8bec8e\",                        [{\"name\":\"No Children Enrolled\",\"x\":[1.0,2.0,3.0,4.0,5.0],\"y\":[14422.0,6970.0,3508.0,3212.0,1458.0],\"type\":\"bar\"},{\"name\":\"Children Subsidised Equitable Share\",\"x\":[1.0,2.0,3.0,4.0,5.0],\"y\":[5014.0,279.0,244.0,28.0,0.0],\"type\":\"bar\"},{\"name\":\"Children Subsidised Conditional Grant\",\"x\":[1.0,2.0,3.0,4.0,5.0],\"y\":[5108.0,325.0,285.0,28.0,0.0],\"type\":\"bar\"}],                        {\"barmode\":\"stack\",\"title\":{\"text\":\"Comparison of Children Accessing ECD Programs and Funded Ones\"},\"xaxis\":{\"title\":{\"text\":\"Fee Level\"}},\"yaxis\":{\"title\":{\"text\":\"Number of Children\"}},\"template\":{\"data\":{\"histogram2dcontour\":[{\"type\":\"histogram2dcontour\",\"colorbar\":{\"outlinewidth\":0,\"ticks\":\"\"},\"colorscale\":[[0.0,\"#0d0887\"],[0.1111111111111111,\"#46039f\"],[0.2222222222222222,\"#7201a8\"],[0.3333333333333333,\"#9c179e\"],[0.4444444444444444,\"#bd3786\"],[0.5555555555555556,\"#d8576b\"],[0.6666666666666666,\"#ed7953\"],[0.7777777777777778,\"#fb9f3a\"],[0.8888888888888888,\"#fdca26\"],[1.0,\"#f0f921\"]]}],\"choropleth\":[{\"type\":\"choropleth\",\"colorbar\":{\"outlinewidth\":0,\"ticks\":\"\"}}],\"histogram2d\":[{\"type\":\"histogram2d\",\"colorbar\":{\"outlinewidth\":0,\"ticks\":\"\"},\"colorscale\":[[0.0,\"#0d0887\"],[0.1111111111111111,\"#46039f\"],[0.2222222222222222,\"#7201a8\"],[0.3333333333333333,\"#9c179e\"],[0.4444444444444444,\"#bd3786\"],[0.5555555555555556,\"#d8576b\"],[0.6666666666666666,\"#ed7953\"],[0.7777777777777778,\"#fb9f3a\"],[0.8888888888888888,\"#fdca26\"],[1.0,\"#f0f921\"]]}],\"heatmap\":[{\"type\":\"heatmap\",\"colorbar\":{\"outlinewidth\":0,\"ticks\":\"\"},\"colorscale\":[[0.0,\"#0d0887\"],[0.1111111111111111,\"#46039f\"],[0.2222222222222222,\"#7201a8\"],[0.3333333333333333,\"#9c179e\"],[0.4444444444444444,\"#bd3786\"],[0.5555555555555556,\"#d8576b\"],[0.6666666666666666,\"#ed7953\"],[0.7777777777777778,\"#fb9f3a\"],[0.8888888888888888,\"#fdca26\"],[1.0,\"#f0f921\"]]}],\"heatmapgl\":[{\"type\":\"heatmapgl\",\"colorbar\":{\"outlinewidth\":0,\"ticks\":\"\"},\"colorscale\":[[0.0,\"#0d0887\"],[0.1111111111111111,\"#46039f\"],[0.2222222222222222,\"#7201a8\"],[0.3333333333333333,\"#9c179e\"],[0.4444444444444444,\"#bd3786\"],[0.5555555555555556,\"#d8576b\"],[0.6666666666666666,\"#ed7953\"],[0.7777777777777778,\"#fb9f3a\"],[0.8888888888888888,\"#fdca26\"],[1.0,\"#f0f921\"]]}],\"contourcarpet\":[{\"type\":\"contourcarpet\",\"colorbar\":{\"outlinewidth\":0,\"ticks\":\"\"}}],\"contour\":[{\"type\":\"contour\",\"colorbar\":{\"outlinewidth\":0,\"ticks\":\"\"},\"colorscale\":[[0.0,\"#0d0887\"],[0.1111111111111111,\"#46039f\"],[0.2222222222222222,\"#7201a8\"],[0.3333333333333333,\"#9c179e\"],[0.4444444444444444,\"#bd3786\"],[0.5555555555555556,\"#d8576b\"],[0.6666666666666666,\"#ed7953\"],[0.7777777777777778,\"#fb9f3a\"],[0.8888888888888888,\"#fdca26\"],[1.0,\"#f0f921\"]]}],\"surface\":[{\"type\":\"surface\",\"colorbar\":{\"outlinewidth\":0,\"ticks\":\"\"},\"colorscale\":[[0.0,\"#0d0887\"],[0.1111111111111111,\"#46039f\"],[0.2222222222222222,\"#7201a8\"],[0.3333333333333333,\"#9c179e\"],[0.4444444444444444,\"#bd3786\"],[0.5555555555555556,\"#d8576b\"],[0.6666666666666666,\"#ed7953\"],[0.7777777777777778,\"#fb9f3a\"],[0.8888888888888888,\"#fdca26\"],[1.0,\"#f0f921\"]]}],\"mesh3d\":[{\"type\":\"mesh3d\",\"colorbar\":{\"outlinewidth\":0,\"ticks\":\"\"}}],\"scatter\":[{\"fillpattern\":{\"fillmode\":\"overlay\",\"size\":10,\"solidity\":0.2},\"type\":\"scatter\"}],\"parcoords\":[{\"type\":\"parcoords\",\"line\":{\"colorbar\":{\"outlinewidth\":0,\"ticks\":\"\"}}}],\"scatterpolargl\":[{\"type\":\"scatterpolargl\",\"marker\":{\"colorbar\":{\"outlinewidth\":0,\"ticks\":\"\"}}}],\"bar\":[{\"error_x\":{\"color\":\"#2a3f5f\"},\"error_y\":{\"color\":\"#2a3f5f\"},\"marker\":{\"line\":{\"color\":\"#E5ECF6\",\"width\":0.5},\"pattern\":{\"fillmode\":\"overlay\",\"size\":10,\"solidity\":0.2}},\"type\":\"bar\"}],\"scattergeo\":[{\"type\":\"scattergeo\",\"marker\":{\"colorbar\":{\"outlinewidth\":0,\"ticks\":\"\"}}}],\"scatterpolar\":[{\"type\":\"scatterpolar\",\"marker\":{\"colorbar\":{\"outlinewidth\":0,\"ticks\":\"\"}}}],\"histogram\":[{\"marker\":{\"pattern\":{\"fillmode\":\"overlay\",\"size\":10,\"solidity\":0.2}},\"type\":\"histogram\"}],\"scattergl\":[{\"type\":\"scattergl\",\"marker\":{\"colorbar\":{\"outlinewidth\":0,\"ticks\":\"\"}}}],\"scatter3d\":[{\"type\":\"scatter3d\",\"line\":{\"colorbar\":{\"outlinewidth\":0,\"ticks\":\"\"}},\"marker\":{\"colorbar\":{\"outlinewidth\":0,\"ticks\":\"\"}}}],\"scattermapbox\":[{\"type\":\"scattermapbox\",\"marker\":{\"colorbar\":{\"outlinewidth\":0,\"ticks\":\"\"}}}],\"scatterternary\":[{\"type\":\"scatterternary\",\"marker\":{\"colorbar\":{\"outlinewidth\":0,\"ticks\":\"\"}}}],\"scattercarpet\":[{\"type\":\"scattercarpet\",\"marker\":{\"colorbar\":{\"outlinewidth\":0,\"ticks\":\"\"}}}],\"carpet\":[{\"aaxis\":{\"endlinecolor\":\"#2a3f5f\",\"gridcolor\":\"white\",\"linecolor\":\"white\",\"minorgridcolor\":\"white\",\"startlinecolor\":\"#2a3f5f\"},\"baxis\":{\"endlinecolor\":\"#2a3f5f\",\"gridcolor\":\"white\",\"linecolor\":\"white\",\"minorgridcolor\":\"white\",\"startlinecolor\":\"#2a3f5f\"},\"type\":\"carpet\"}],\"table\":[{\"cells\":{\"fill\":{\"color\":\"#EBF0F8\"},\"line\":{\"color\":\"white\"}},\"header\":{\"fill\":{\"color\":\"#C8D4E3\"},\"line\":{\"color\":\"white\"}},\"type\":\"table\"}],\"barpolar\":[{\"marker\":{\"line\":{\"color\":\"#E5ECF6\",\"width\":0.5},\"pattern\":{\"fillmode\":\"overlay\",\"size\":10,\"solidity\":0.2}},\"type\":\"barpolar\"}],\"pie\":[{\"automargin\":true,\"type\":\"pie\"}]},\"layout\":{\"autotypenumbers\":\"strict\",\"colorway\":[\"#636efa\",\"#EF553B\",\"#00cc96\",\"#ab63fa\",\"#FFA15A\",\"#19d3f3\",\"#FF6692\",\"#B6E880\",\"#FF97FF\",\"#FECB52\"],\"font\":{\"color\":\"#2a3f5f\"},\"hovermode\":\"closest\",\"hoverlabel\":{\"align\":\"left\"},\"paper_bgcolor\":\"white\",\"plot_bgcolor\":\"#E5ECF6\",\"polar\":{\"bgcolor\":\"#E5ECF6\",\"angularaxis\":{\"gridcolor\":\"white\",\"linecolor\":\"white\",\"ticks\":\"\"},\"radialaxis\":{\"gridcolor\":\"white\",\"linecolor\":\"white\",\"ticks\":\"\"}},\"ternary\":{\"bgcolor\":\"#E5ECF6\",\"aaxis\":{\"gridcolor\":\"white\",\"linecolor\":\"white\",\"ticks\":\"\"},\"baxis\":{\"gridcolor\":\"white\",\"linecolor\":\"white\",\"ticks\":\"\"},\"caxis\":{\"gridcolor\":\"white\",\"linecolor\":\"white\",\"ticks\":\"\"}},\"coloraxis\":{\"colorbar\":{\"outlinewidth\":0,\"ticks\":\"\"}},\"colorscale\":{\"sequential\":[[0.0,\"#0d0887\"],[0.1111111111111111,\"#46039f\"],[0.2222222222222222,\"#7201a8\"],[0.3333333333333333,\"#9c179e\"],[0.4444444444444444,\"#bd3786\"],[0.5555555555555556,\"#d8576b\"],[0.6666666666666666,\"#ed7953\"],[0.7777777777777778,\"#fb9f3a\"],[0.8888888888888888,\"#fdca26\"],[1.0,\"#f0f921\"]],\"sequentialminus\":[[0.0,\"#0d0887\"],[0.1111111111111111,\"#46039f\"],[0.2222222222222222,\"#7201a8\"],[0.3333333333333333,\"#9c179e\"],[0.4444444444444444,\"#bd3786\"],[0.5555555555555556,\"#d8576b\"],[0.6666666666666666,\"#ed7953\"],[0.7777777777777778,\"#fb9f3a\"],[0.8888888888888888,\"#fdca26\"],[1.0,\"#f0f921\"]],\"diverging\":[[0,\"#8e0152\"],[0.1,\"#c51b7d\"],[0.2,\"#de77ae\"],[0.3,\"#f1b6da\"],[0.4,\"#fde0ef\"],[0.5,\"#f7f7f7\"],[0.6,\"#e6f5d0\"],[0.7,\"#b8e186\"],[0.8,\"#7fbc41\"],[0.9,\"#4d9221\"],[1,\"#276419\"]]},\"xaxis\":{\"gridcolor\":\"white\",\"linecolor\":\"white\",\"ticks\":\"\",\"title\":{\"standoff\":15},\"zerolinecolor\":\"white\",\"automargin\":true,\"zerolinewidth\":2},\"yaxis\":{\"gridcolor\":\"white\",\"linecolor\":\"white\",\"ticks\":\"\",\"title\":{\"standoff\":15},\"zerolinecolor\":\"white\",\"automargin\":true,\"zerolinewidth\":2},\"scene\":{\"xaxis\":{\"backgroundcolor\":\"#E5ECF6\",\"gridcolor\":\"white\",\"linecolor\":\"white\",\"showbackground\":true,\"ticks\":\"\",\"zerolinecolor\":\"white\",\"gridwidth\":2},\"yaxis\":{\"backgroundcolor\":\"#E5ECF6\",\"gridcolor\":\"white\",\"linecolor\":\"white\",\"showbackground\":true,\"ticks\":\"\",\"zerolinecolor\":\"white\",\"gridwidth\":2},\"zaxis\":{\"backgroundcolor\":\"#E5ECF6\",\"gridcolor\":\"white\",\"linecolor\":\"white\",\"showbackground\":true,\"ticks\":\"\",\"zerolinecolor\":\"white\",\"gridwidth\":2}},\"shapedefaults\":{\"line\":{\"color\":\"#2a3f5f\"}},\"annotationdefaults\":{\"arrowcolor\":\"#2a3f5f\",\"arrowhead\":0,\"arrowwidth\":1},\"geo\":{\"bgcolor\":\"white\",\"landcolor\":\"#E5ECF6\",\"subunitcolor\":\"white\",\"showland\":true,\"showlakes\":true,\"lakecolor\":\"white\"},\"title\":{\"x\":0.05},\"mapbox\":{\"style\":\"light\"}}}},                        {\"responsive\": true}                    ).then(function(){\n",
       "                            \n",
       "var gd = document.getElementById('63af4c8f-6628-45fd-9897-cf17fa8bec8e');\n",
       "var x = new MutationObserver(function (mutations, observer) {{\n",
       "        var display = window.getComputedStyle(gd).display;\n",
       "        if (!display || display === 'none') {{\n",
       "            console.log([gd, 'removed!']);\n",
       "            Plotly.purge(gd);\n",
       "            observer.disconnect();\n",
       "        }}\n",
       "}});\n",
       "\n",
       "// Listen for the removal of the full notebook cells\n",
       "var notebookContainer = gd.closest('#notebook-container');\n",
       "if (notebookContainer) {{\n",
       "    x.observe(notebookContainer, {childList: true});\n",
       "}}\n",
       "\n",
       "// Listen for the clearing of the current output cell\n",
       "var outputEl = gd.closest('.output');\n",
       "if (outputEl) {{\n",
       "    x.observe(outputEl, {childList: true});\n",
       "}}\n",
       "\n",
       "                        })                };                });            </script>        </div>"
      ]
     },
     "metadata": {},
     "output_type": "display_data"
    }
   ],
   "source": [
    "import plotly.graph_objs as go\n",
    "\n",
    "# Create traces\n",
    "trace1 = go.Bar(x=fee_level_distribution['fee_level'], y=fee_level_distribution['no_children_enrolled'], name='No Children Enrolled')\n",
    "trace2 = go.Bar(x=fee_level_distribution['fee_level'], y=fee_level_distribution['children_subsidised_equitable_share'], name='Children Subsidised Equitable Share')\n",
    "trace3 = go.Bar(x=fee_level_distribution['fee_level'], y=fee_level_distribution['children_subsided_conditional_grant'], name='Children Subsidised Conditional Grant')\n",
    "\n",
    "# Create layout\n",
    "layout = go.Layout(title='Comparison of Children Accessing ECD Programs and Funded Ones',\n",
    "                   xaxis=dict(title='Fee Level'),\n",
    "                   yaxis=dict(title='Number of Children'),\n",
    "                   barmode='stack')\n",
    "\n",
    "# Create figure\n",
    "fig = go.Figure(data=[trace1, trace2, trace3], layout=layout)\n",
    "\n",
    "# Show figure\n",
    "fig.show()"
   ]
  },
  {
   "cell_type": "markdown",
   "id": "29f6e3aa",
   "metadata": {},
   "source": [
    "#### Reporting:\n",
    "\n",
    "__Focus on Fee Level 1 Programs:__ Fee Level 1 programs have the highest number of children enrolled, indicating a higher demand for ECD services in economically disadvantaged areas. Since these programs cater to the poorest communities, increasing funding for Fee Level 1 programs can have a significant impact on reaching underserved populations and improving access to ECD services.\n",
    "\n",
    "__Prioritize Equitable Share Funding:__ The data shows that a substantial number of children in Fee Level 1 programs are subsidized through equitable share funding. This suggests that equitable share funding is effectively reaching and supporting children in need. Therefore, it is crucial to prioritize and potentially increase funding through equitable share mechanisms to continue supporting these vulnerable populations.\n",
    "\n",
    "__Target Conditional Grant Funding:__ While the number of children subsidized through conditional grant funding decreases as the fee level increases, there are still children in higher fee level programs who rely on conditional grant subsidies. Targeting conditional grant funding towards Fee Level 1 programs can help bridge the gap and ensure that children in economically disadvantaged areas receive the necessary support and resources.\n",
    "\n",
    "__Invest in Capacity Building and Registration:__ Since only registered ECD programs can be funded, investing in capacity building initiatives and supporting unregistered programs to become registered can expand the pool of eligible programs for funding. This can involve providing technical assistance, training, and resources to help ECD providers meet registration requirements, particularly in Fee Level 1 areas where there may be a higher proportion of unregistered programs.\n",
    "\n",
    "__Monitor and Evaluate Impact:__ As funding is increased and targeted towards specific areas and programs, it is essential to monitor and evaluate the impact of these investments. This includes tracking changes in enrollment numbers, program quality, and child outcomes to ensure that funding allocations are effectively meeting the needs of children and families and achieving desired outcomes."
   ]
  },
  {
   "cell_type": "markdown",
   "id": "2d8e3b16",
   "metadata": {},
   "source": [
    "## Exercise 3 Question:\n",
    "Generate a list of ECD Programmes with expiring registrations for each district with prioritisation for those that are funded and expiring soonest."
   ]
  },
  {
   "cell_type": "code",
   "execution_count": 460,
   "id": "4777ff4c",
   "metadata": {},
   "outputs": [
    {
     "data": {
      "text/html": [
       "<div>\n",
       "<style scoped>\n",
       "    .dataframe tbody tr th:only-of-type {\n",
       "        vertical-align: middle;\n",
       "    }\n",
       "\n",
       "    .dataframe tbody tr th {\n",
       "        vertical-align: top;\n",
       "    }\n",
       "\n",
       "    .dataframe thead th {\n",
       "        text-align: right;\n",
       "    }\n",
       "</style>\n",
       "<table border=\"1\" class=\"dataframe\">\n",
       "  <thead>\n",
       "    <tr style=\"text-align: right;\">\n",
       "      <th></th>\n",
       "      <th>District</th>\n",
       "      <th>ECD Name</th>\n",
       "      <th>Expiry Date</th>\n",
       "    </tr>\n",
       "  </thead>\n",
       "  <tbody>\n",
       "    <tr>\n",
       "      <th>0</th>\n",
       "      <td>Disitrct 1</td>\n",
       "      <td>ECD 7</td>\n",
       "      <td>2022-07-30</td>\n",
       "    </tr>\n",
       "    <tr>\n",
       "      <th>1</th>\n",
       "      <td>Disitrct 1</td>\n",
       "      <td>ECD 772</td>\n",
       "      <td>2022-09-30</td>\n",
       "    </tr>\n",
       "    <tr>\n",
       "      <th>2</th>\n",
       "      <td>Disitrct 1</td>\n",
       "      <td>ECD 703</td>\n",
       "      <td>2023-03-31</td>\n",
       "    </tr>\n",
       "    <tr>\n",
       "      <th>3</th>\n",
       "      <td>Disitrct 1</td>\n",
       "      <td>ECD 268</td>\n",
       "      <td>2023-03-31</td>\n",
       "    </tr>\n",
       "    <tr>\n",
       "      <th>4</th>\n",
       "      <td>Disitrct 1</td>\n",
       "      <td>ECD 145</td>\n",
       "      <td>2023-03-31</td>\n",
       "    </tr>\n",
       "    <tr>\n",
       "      <th>5</th>\n",
       "      <td>Disitrct 1</td>\n",
       "      <td>ECD 787</td>\n",
       "      <td>2023-03-31</td>\n",
       "    </tr>\n",
       "    <tr>\n",
       "      <th>6</th>\n",
       "      <td>Disitrct 1</td>\n",
       "      <td>ECD 259</td>\n",
       "      <td>2023-03-31</td>\n",
       "    </tr>\n",
       "    <tr>\n",
       "      <th>7</th>\n",
       "      <td>Disitrct 1</td>\n",
       "      <td>ECD 542</td>\n",
       "      <td>2023-10-30</td>\n",
       "    </tr>\n",
       "    <tr>\n",
       "      <th>8</th>\n",
       "      <td>Disitrct 1</td>\n",
       "      <td>ECD 494</td>\n",
       "      <td>2023-10-31</td>\n",
       "    </tr>\n",
       "    <tr>\n",
       "      <th>9</th>\n",
       "      <td>Disitrct 1</td>\n",
       "      <td>ECD 791</td>\n",
       "      <td>2024-03-31</td>\n",
       "    </tr>\n",
       "  </tbody>\n",
       "</table>\n",
       "</div>"
      ],
      "text/plain": [
       "     District ECD Name Expiry Date\n",
       "0  Disitrct 1    ECD 7  2022-07-30\n",
       "1  Disitrct 1  ECD 772  2022-09-30\n",
       "2  Disitrct 1  ECD 703  2023-03-31\n",
       "3  Disitrct 1  ECD 268  2023-03-31\n",
       "4  Disitrct 1  ECD 145  2023-03-31\n",
       "5  Disitrct 1  ECD 787  2023-03-31\n",
       "6  Disitrct 1  ECD 259  2023-03-31\n",
       "7  Disitrct 1  ECD 542  2023-10-30\n",
       "8  Disitrct 1  ECD 494  2023-10-31\n",
       "9  Disitrct 1  ECD 791  2024-03-31"
      ]
     },
     "execution_count": 460,
     "metadata": {},
     "output_type": "execute_result"
    }
   ],
   "source": [
    "# Filter programs with expiring registrations\n",
    "expiry_threshold = pd.Timestamp.now() + pd.DateOffset(months=3)  # Consider registrations expiring within the next 3 months\n",
    "expiring_programs = df[df['prog_registration_expirydate'] <= expiry_threshold]\n",
    "\n",
    "# Sort by expiry date\n",
    "expiring_programs = expiring_programs.sort_values(by='prog_registration_expirydate')\n",
    "\n",
    "# Group by district\n",
    "district_groups = expiring_programs.groupby('district_name')\n",
    "\n",
    "# Create an empty DataFrame to store the results\n",
    "results_df = pd.DataFrame(columns=['District', 'ECD Name', 'Expiry Date'])\n",
    "\n",
    "# Generate list of expiring programs for each district\n",
    "for district, group_df in district_groups:\n",
    "    funded_programs = group_df[group_df['equitable_share_subsidy'] == 'Yes']  # Filter funded programs\n",
    "    if not funded_programs.empty:\n",
    "        # Append funded programs to the results DataFrame\n",
    "        funded_programs_subset = funded_programs[['district_name', 'ecd_name', 'prog_registration_expirydate']]\n",
    "        funded_programs_subset.columns = ['District', 'ECD Name', 'Expiry Date']\n",
    "        results_df = pd.concat([results_df, funded_programs_subset])\n",
    "    \n",
    "# Reset index of the results DataFrame\n",
    "results_df.reset_index(drop=True, inplace=True)\n",
    "\n",
    "# Display the results DataFrame\n",
    "results_df.head(10)"
   ]
  },
  {
   "cell_type": "markdown",
   "id": "763e0aaf",
   "metadata": {},
   "source": [
    "### Reporting:\n",
    "\n",
    "__Expiry Dates:__ The expiry dates vary across the programs, ranging from as soon as July 2022 to March 2024. This indicates a diverse timeline for the renewal of registrations among the programs in District 1.\n",
    "\n",
    "__Program Diversity:__ There are several ECD programs listed, each with its unique identifier (ECD Name). This suggests that District 1 has a diverse range of ECD services available to the community.\n",
    "\n",
    "__Renewal Needs:__ The presence of multiple programs with upcoming expiry dates highlights the need for timely renewal of registrations to ensure continuity of services. It may be beneficial for authorities to prioritize and streamline the renewal process for these programs to avoid disruptions in service delivery."
   ]
  },
  {
   "cell_type": "markdown",
   "id": "2b90a1cb",
   "metadata": {},
   "source": [
    "## Exercise 4 Question\n",
    "The Southern Cape must report the following indicator numbers to the National Education Department in a tabular format provided.\n",
    "\n",
    "___1. Number of children accessing registered ECD Services___\n",
    "\n",
    "    a. No of children accessing fully Registered ECD centres \n",
    "    b. No of children accessing conditionally Registered ECD centers \n",
    "    c. No of children accessing unregistered ECD centers \n",
    "    d. No of children accessing non-centre based programmes\n",
    "\n",
    "___2. Number of ECD Services Registered___\n",
    "\n",
    "    a. No of ECD centres fully Registered \n",
    "    b. No of ECD centers conditionally Registered \n",
    "    c. No of unregistered ECD centers \n",
    "    d. No of non-centre based programmes registered\n",
    "\n",
    "___3. Number of Children Subsidised through the Conditional Grant___\n",
    "\n",
    "    a. No of children subsidised through the conditional grant in ECD centres: fully Registered \n",
    "    b. No of children subsidised through the conditional grant in ECD centres: Conditionally Registered \n",
    "    c. No of children subsidised through the conditional grant in registered non-centre based programmes \n",
    "\n",
    "Create a tabular report showing these indicators broken down as indicated. Can you make suggestions on other ways to present/visualise this data?"
   ]
  },
  {
   "cell_type": "markdown",
   "id": "90eaae0b",
   "metadata": {},
   "source": [
    "  #### 1. Number of children accessing registered ECD Services"
   ]
  },
  {
   "cell_type": "code",
   "execution_count": 461,
   "id": "48fc2646",
   "metadata": {},
   "outputs": [],
   "source": [
    "# Convert 'no._children_enrolled' to numeric\n",
    "df['no_children_enrolled'] = pd.to_numeric(df['no_children_enrolled'], errors='coerce')\n",
    "\n",
    "# Group by 'partial_care_registration_(pcr)_status' for ECD centers\n",
    "ecd_centers_grouped = df[df['service_type'] == 'ECD centre'].groupby('partial_care_registration_(pcr)_status')"
   ]
  },
  {
   "cell_type": "code",
   "execution_count": 462,
   "id": "f2312a86",
   "metadata": {
    "scrolled": true
   },
   "outputs": [
    {
     "data": {
      "text/html": [
       "<div>\n",
       "<style scoped>\n",
       "    .dataframe tbody tr th:only-of-type {\n",
       "        vertical-align: middle;\n",
       "    }\n",
       "\n",
       "    .dataframe tbody tr th {\n",
       "        vertical-align: top;\n",
       "    }\n",
       "\n",
       "    .dataframe thead th {\n",
       "        text-align: right;\n",
       "    }\n",
       "</style>\n",
       "<table border=\"1\" class=\"dataframe\">\n",
       "  <thead>\n",
       "    <tr style=\"text-align: right;\">\n",
       "      <th></th>\n",
       "      <th>no_children_enrolled</th>\n",
       "    </tr>\n",
       "    <tr>\n",
       "      <th>partial_care_registration_(pcr)_status</th>\n",
       "      <th></th>\n",
       "    </tr>\n",
       "  </thead>\n",
       "  <tbody>\n",
       "    <tr>\n",
       "      <th>Not registered</th>\n",
       "      <td>10467.0</td>\n",
       "    </tr>\n",
       "    <tr>\n",
       "      <th>Fully registered</th>\n",
       "      <td>9648.0</td>\n",
       "    </tr>\n",
       "    <tr>\n",
       "      <th>Conditionally registered</th>\n",
       "      <td>5213.0</td>\n",
       "    </tr>\n",
       "    <tr>\n",
       "      <th>In process</th>\n",
       "      <td>2164.0</td>\n",
       "    </tr>\n",
       "    <tr>\n",
       "      <th>Lapsed registration</th>\n",
       "      <td>1933.0</td>\n",
       "    </tr>\n",
       "  </tbody>\n",
       "</table>\n",
       "</div>"
      ],
      "text/plain": [
       "                                        no_children_enrolled\n",
       "partial_care_registration_(pcr)_status                      \n",
       "Not registered                                       10467.0\n",
       "Fully registered                                      9648.0\n",
       "Conditionally registered                              5213.0\n",
       "In process                                            2164.0\n",
       "Lapsed registration                                   1933.0"
      ]
     },
     "execution_count": 462,
     "metadata": {},
     "output_type": "execute_result"
    }
   ],
   "source": [
    "# Calculate number of children accessing registered ECD Services\n",
    "number_of_children_accessing = ecd_centers_grouped['no_children_enrolled'].sum()\n",
    "\n",
    "# Print the results\n",
    "# print(\"1. Number of children accessing registered ECD Services:\")\n",
    "pd.DataFrame(number_of_children_accessing).sort_values(by='no_children_enrolled', ascending=False)"
   ]
  },
  {
   "cell_type": "markdown",
   "id": "b1837c7a",
   "metadata": {},
   "source": [
    "#### Reporting:\n",
    "The data underscores the importance of ensuring that ECD programs are registered and compliant with regulatory standards to safeguard the well-being and development of children accessing these services. It also highlights the need for effective monitoring, support, and enforcement mechanisms to address issues such as unregistered facilities and lapsed registrations, ultimately promoting the provision of high-quality early childhood education and care."
   ]
  },
  {
   "cell_type": "markdown",
   "id": "ae9493b7",
   "metadata": {},
   "source": [
    "#### 2. Number of ECD Services Registered"
   ]
  },
  {
   "cell_type": "code",
   "execution_count": 463,
   "id": "30581550",
   "metadata": {},
   "outputs": [
    {
     "data": {
      "text/html": [
       "<div>\n",
       "<style scoped>\n",
       "    .dataframe tbody tr th:only-of-type {\n",
       "        vertical-align: middle;\n",
       "    }\n",
       "\n",
       "    .dataframe tbody tr th {\n",
       "        vertical-align: top;\n",
       "    }\n",
       "\n",
       "    .dataframe thead th {\n",
       "        text-align: right;\n",
       "    }\n",
       "</style>\n",
       "<table border=\"1\" class=\"dataframe\">\n",
       "  <thead>\n",
       "    <tr style=\"text-align: right;\">\n",
       "      <th></th>\n",
       "      <th>partial_care_registration_(pcr)_status</th>\n",
       "    </tr>\n",
       "  </thead>\n",
       "  <tbody>\n",
       "    <tr>\n",
       "      <th>Not registered</th>\n",
       "      <td>425</td>\n",
       "    </tr>\n",
       "    <tr>\n",
       "      <th>Fully registered</th>\n",
       "      <td>183</td>\n",
       "    </tr>\n",
       "    <tr>\n",
       "      <th>Conditionally registered</th>\n",
       "      <td>124</td>\n",
       "    </tr>\n",
       "    <tr>\n",
       "      <th>In process</th>\n",
       "      <td>69</td>\n",
       "    </tr>\n",
       "    <tr>\n",
       "      <th>Lapsed registration</th>\n",
       "      <td>52</td>\n",
       "    </tr>\n",
       "  </tbody>\n",
       "</table>\n",
       "</div>"
      ],
      "text/plain": [
       "                          partial_care_registration_(pcr)_status\n",
       "Not registered                                               425\n",
       "Fully registered                                             183\n",
       "Conditionally registered                                     124\n",
       "In process                                                    69\n",
       "Lapsed registration                                           52"
      ]
     },
     "execution_count": 463,
     "metadata": {},
     "output_type": "execute_result"
    }
   ],
   "source": [
    "# Calculate number of ECD Services Registered\n",
    "number_of_ecd_services_registered = df['partial_care_registration_(pcr)_status'].value_counts()\n",
    "\n",
    "# Print the results\n",
    "# print(\"2. Number of ECD Services Registered:\")\n",
    "pd.DataFrame(number_of_ecd_services_registered)"
   ]
  },
  {
   "cell_type": "markdown",
   "id": "477a9dfa",
   "metadata": {},
   "source": [
    "#### Reporting:\n",
    "\n",
    "__Increase Awareness:__ Implement campaigns to raise awareness among ECD service providers about the importance and benefits of registration.\n",
    "\n",
    "__Streamline Registration Process:__ Simplify and streamline the registration process to encourage more ECD services to complete the registration requirements.\n",
    "\n",
    "__Provide Support:__ Offer assistance and guidance to ECD services that are in the process of registration or have lapsed registration to help them fulfill requirements and regain compliance.\n",
    "\n",
    "__Enforcement:__ Strengthen enforcement measures to ensure that ECD services adhere to registration regulations and maintain compliance over time.\n",
    "\n",
    "__Monitoring and Evaluation:__ Establish a robust monitoring and evaluation system to track registration status and compliance of ECD services regularly."
   ]
  },
  {
   "cell_type": "markdown",
   "id": "b5e5b6aa",
   "metadata": {},
   "source": [
    "#### 3. Number of Children Subsidized through the Conditional Grant"
   ]
  },
  {
   "cell_type": "code",
   "execution_count": 464,
   "id": "3e83441d",
   "metadata": {},
   "outputs": [
    {
     "data": {
      "text/html": [
       "<div>\n",
       "<style scoped>\n",
       "    .dataframe tbody tr th:only-of-type {\n",
       "        vertical-align: middle;\n",
       "    }\n",
       "\n",
       "    .dataframe tbody tr th {\n",
       "        vertical-align: top;\n",
       "    }\n",
       "\n",
       "    .dataframe thead th {\n",
       "        text-align: right;\n",
       "    }\n",
       "</style>\n",
       "<table border=\"1\" class=\"dataframe\">\n",
       "  <thead>\n",
       "    <tr style=\"text-align: right;\">\n",
       "      <th></th>\n",
       "      <th>no_children_enrolled</th>\n",
       "    </tr>\n",
       "    <tr>\n",
       "      <th>partial_care_registration_(pcr)_status</th>\n",
       "      <th></th>\n",
       "    </tr>\n",
       "  </thead>\n",
       "  <tbody>\n",
       "    <tr>\n",
       "      <th>Conditionally registered</th>\n",
       "      <td>3571.0</td>\n",
       "    </tr>\n",
       "    <tr>\n",
       "      <th>Fully registered</th>\n",
       "      <td>1777.0</td>\n",
       "    </tr>\n",
       "    <tr>\n",
       "      <th>In process</th>\n",
       "      <td>6.0</td>\n",
       "    </tr>\n",
       "    <tr>\n",
       "      <th>Lapsed registration</th>\n",
       "      <td>465.0</td>\n",
       "    </tr>\n",
       "  </tbody>\n",
       "</table>\n",
       "</div>"
      ],
      "text/plain": [
       "                                        no_children_enrolled\n",
       "partial_care_registration_(pcr)_status                      \n",
       "Conditionally registered                              3571.0\n",
       "Fully registered                                      1777.0\n",
       "In process                                               6.0\n",
       "Lapsed registration                                    465.0"
      ]
     },
     "execution_count": 464,
     "metadata": {},
     "output_type": "execute_result"
    }
   ],
   "source": [
    "# Calculate number of Children Subsidized through the Conditional Grant\n",
    "number_of_children_subsidized = df[df['conditional_grant_subsidy'] == 'Yes'].groupby('partial_care_registration_(pcr)_status')['no_children_enrolled'].sum()\n",
    "\n",
    "# Print the results\n",
    "# print(\"3. Number of Children Subsidized through the Conditional Grant:\")\n",
    "pd.DataFrame(number_of_children_subsidized)"
   ]
  },
  {
   "cell_type": "markdown",
   "id": "0d91babc",
   "metadata": {},
   "source": [
    "#### Reporting:\n",
    "The data underscores the importance of Conditional Grant subsidies in supporting access to early childhood development programs, regardless of their registration status. However, it also emphasizes the need for continued efforts to ensure timely registration and compliance with regulations to provide uninterrupted services to children in need."
   ]
  },
  {
   "cell_type": "markdown",
   "id": "cf0a3603",
   "metadata": {},
   "source": [
    "# Report Summary"
   ]
  },
  {
   "cell_type": "markdown",
   "id": "322db1ab",
   "metadata": {},
   "source": [
    "## Steps taken in data preparation, transformation and visualization\n",
    "\n",
    "1. Import data\n",
    "   - import libraries and data\n",
    "\n",
    "2. Check data quality\n",
    "   - cleaning of names to follow python standards\n",
    "   - missing values\n",
    "\n",
    "3. Reformatting data types\n",
    "    - date features to indicate datetime format\n",
    "\n",
    "4. Drop irrelevant features\n",
    "    - features like `land_owner`, `building_owner`, `prog_certificate_number` are not necessary in the analysis, so we remove them.\n",
    "\n",
    "5. Handle missing values \n",
    "   - missing values affect the aggregations, sometimes removing them is necessary. In this case, no missing values were removed.\n",
    "\n",
    "6. Aggregate data \n",
    "\n",
    "   - groupby method from pandas\n",
    "   - use of lambda function to aggregate data\n",
    "\n",
    "7. Visualization \n",
    "   - plotly with annotations for easy communications, matplotlib for visuals too.\n"
   ]
  },
  {
   "cell_type": "code",
   "execution_count": null,
   "id": "635aa719",
   "metadata": {},
   "outputs": [],
   "source": []
  }
 ],
 "metadata": {
  "kernelspec": {
   "display_name": "Python 3 (ipykernel)",
   "language": "python",
   "name": "python3"
  },
  "language_info": {
   "codemirror_mode": {
    "name": "ipython",
    "version": 3
   },
   "file_extension": ".py",
   "mimetype": "text/x-python",
   "name": "python",
   "nbconvert_exporter": "python",
   "pygments_lexer": "ipython3",
   "version": "3.11.5"
  }
 },
 "nbformat": 4,
 "nbformat_minor": 5
}
